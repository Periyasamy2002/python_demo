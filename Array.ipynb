{
 "cells": [
  {
   "cell_type": "markdown",
   "id": "2855f3e5-1e82-400a-9b78-7f296f34ac3d",
   "metadata": {},
   "source": [
    "#Array \n",
    "\n",
    "--Collection of values are stored within a [].\n",
    "\n",
    "--Array is faster than list and also it takes less memory space.\n",
    "\n",
    "--It accept same datatype value"
   ]
  },
  {
   "cell_type": "code",
   "execution_count": 2,
   "id": "54387e3c-8bc2-4424-bcd7-63827ae5893e",
   "metadata": {},
   "outputs": [
    {
     "name": "stdout",
     "output_type": "stream",
     "text": [
      "array('i', [10, 23, 45, 90, 23])\n",
      "<class 'array.array'>\n"
     ]
    }
   ],
   "source": [
    "import array as ar\n",
    "ar1=ar.array('i',[10,23,45,90,23])\n",
    "print(ar1)\n",
    "print(type(ar1))"
   ]
  },
  {
   "cell_type": "code",
   "execution_count": 3,
   "id": "b8eed21f-0812-4c46-add4-f00282c9903e",
   "metadata": {},
   "outputs": [
    {
     "name": "stdout",
     "output_type": "stream",
     "text": [
      "5\n",
      "2\n",
      "191\n",
      "90\n",
      "10\n"
     ]
    }
   ],
   "source": [
    "print(len(ar1))\n",
    "print(ar1.count(23))\n",
    "print(sum(ar1))\n",
    "print(max(ar1))\n",
    "print(min(ar1))"
   ]
  },
  {
   "cell_type": "code",
   "execution_count": 4,
   "id": "f6c9f765-fdf7-42f3-867c-974db8fa70a6",
   "metadata": {},
   "outputs": [
    {
     "name": "stdout",
     "output_type": "stream",
     "text": [
      "array('u', 'aruvi')\n"
     ]
    }
   ],
   "source": [
    "#u - Unicode Character\n",
    "s=ar.array('u',['a','r','u','v','i'])\n",
    "print(s)"
   ]
  },
  {
   "cell_type": "code",
   "execution_count": 7,
   "id": "10a6f5ec-ee06-4f29-8a18-2a1774975880",
   "metadata": {},
   "outputs": [
    {
     "name": "stdout",
     "output_type": "stream",
     "text": [
      "array('f', [12.5, 45.0, 23.5, 90.5])\n"
     ]
    }
   ],
   "source": [
    "f=ar.array('f',[12.5,45,23.5,90.5])\n",
    "print(f)"
   ]
  },
  {
   "cell_type": "code",
   "execution_count": 9,
   "id": "2c013af4-7ea9-4a65-b92f-0504c50bae14",
   "metadata": {},
   "outputs": [
    {
     "name": "stdout",
     "output_type": "stream",
     "text": [
      "array('f', [12.5, 45.0, 23.5, 90.5, 10.0, 45.599998474121094, 23.450000762939453])\n"
     ]
    }
   ],
   "source": [
    "#Concatenation\n",
    "a1=ar.array('f',[12.5,45,23.5,90.5])\n",
    "a2=ar.array('f',[10,45.6,23.45])\n",
    "print(a1+a2)"
   ]
  },
  {
   "cell_type": "code",
   "execution_count": 13,
   "id": "37bf864a-20df-4c59-b388-af556e872dbd",
   "metadata": {},
   "outputs": [
    {
     "name": "stdout",
     "output_type": "stream",
     "text": [
      "array('f', [12.5, 45.0, 23.5, 90.5, 10.0, 45.0, 23.0])\n"
     ]
    }
   ],
   "source": [
    "#Concatenation\n",
    "a1=ar.array('f',[12.5,45,23.5,90.5])\n",
    "a2=ar.array('f',[10,45,23.0])\n",
    "print(a1+a2)"
   ]
  },
  {
   "cell_type": "code",
   "execution_count": 15,
   "id": "6f255c82-3584-4649-b275-f284854c4c56",
   "metadata": {},
   "outputs": [
    {
     "name": "stdout",
     "output_type": "stream",
     "text": [
      "array('h', [12, 45, 23, 90, 10, 45, 23])\n"
     ]
    }
   ],
   "source": [
    "#Concatenation\n",
    "a1=ar.array('h',[12,45,23,90])\n",
    "a2=ar.array('h',[10,45,23])\n",
    "print(a1+a2)"
   ]
  },
  {
   "cell_type": "code",
   "execution_count": null,
   "id": "cbbe95b7-aa39-44ad-87bb-55051ed83cbc",
   "metadata": {},
   "outputs": [],
   "source": []
  }
 ],
 "metadata": {
  "kernelspec": {
   "display_name": "Python 3 (ipykernel)",
   "language": "python",
   "name": "python3"
  },
  "language_info": {
   "codemirror_mode": {
    "name": "ipython",
    "version": 3
   },
   "file_extension": ".py",
   "mimetype": "text/x-python",
   "name": "python",
   "nbconvert_exporter": "python",
   "pygments_lexer": "ipython3",
   "version": "3.12.4"
  }
 },
 "nbformat": 4,
 "nbformat_minor": 5
}
